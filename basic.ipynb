{
 "cells": [
  {
   "cell_type": "code",
   "execution_count": 15,
   "metadata": {},
   "outputs": [
    {
     "name": "stdout",
     "output_type": "stream",
     "text": [
      "Hello World ! \n",
      "[1, 2, 3, 4, 5, 6, 7, 8, 9]\n",
      "3\n",
      "3.142857142857143\n",
      "1\n"
     ]
    }
   ],
   "source": [
    "print(\"Hello World ! \")\n",
    "l=[i for i in range (1,10)]\n",
    "print(l)\n",
    "1+2\n",
    "print(22//7)\n",
    "print(22/7)\n",
    "print(22%7)\n"
   ]
  },
  {
   "cell_type": "code",
   "execution_count": 19,
   "metadata": {},
   "outputs": [
    {
     "name": "stdout",
     "output_type": "stream",
     "text": [
      "Ashish Anand\n",
      "i am ashish \"ahshf\" anand\n"
     ]
    }
   ],
   "source": [
    "s1='Ashish'\n",
    "s2='Anand'\n",
    "print(s1+' '+s2)\n",
    "print('i am ashish \"ahshf\" anand')"
   ]
  },
  {
   "cell_type": "code",
   "execution_count": 1,
   "metadata": {},
   "outputs": [
    {
     "name": "stdout",
     "output_type": "stream",
     "text": [
      "enter the name :ashish\n",
      "Hello ashish\n"
     ]
    }
   ],
   "source": [
    "s1=\"Hello\"\n",
    "name=input(\"enter the name :\")\n",
    "print(s1+' '+name)\n"
   ]
  },
  {
   "cell_type": "code",
   "execution_count": 4,
   "metadata": {},
   "outputs": [
    {
     "name": "stdout",
     "output_type": "stream",
     "text": [
      "enter any value :dhfhf\n"
     ]
    },
    {
     "data": {
      "text/plain": [
       "str"
      ]
     },
     "execution_count": 4,
     "metadata": {},
     "output_type": "execute_result"
    }
   ],
   "source": [
    "x=input(\"enter any value :\")\n",
    "x\n",
    "type(x)\n"
   ]
  },
  {
   "cell_type": "code",
   "execution_count": 1,
   "metadata": {},
   "outputs": [
    {
     "name": "stdout",
     "output_type": "stream",
     "text": [
      "enter any value :5\n",
      "5555\n"
     ]
    }
   ],
   "source": [
    "s1=input(\"enter any value :\")\n",
    "s1=s1*4\n",
    "print(s1)"
   ]
  },
  {
   "cell_type": "code",
   "execution_count": 4,
   "metadata": {},
   "outputs": [
    {
     "name": "stdout",
     "output_type": "stream",
     "text": [
      "enter your age89\n",
      "enter your namekh\n",
      "enter ypur adressioj'\n",
      "enter your state nameioj\n",
      "eligible for vote\n"
     ]
    }
   ],
   "source": [
    "a=int(input(\"enter your age\"))\n",
    "b=input(\"enter your name\")\n",
    "c=input(\"enter ypur adrss\")\n",
    "d=input(\"enter your state name\")\n",
    "if a>=18:\n",
    "    print(\"eligible for vote\")\n",
    "    \n",
    "else:\n",
    "    print(\"not eligible for vote\")"
   ]
  },
  {
   "cell_type": "code",
   "execution_count": 13,
   "metadata": {},
   "outputs": [
    {
     "name": "stdout",
     "output_type": "stream",
     "text": [
      "enter the number5\n",
      "enter second number6\n",
      "18.0\n"
     ]
    }
   ],
   "source": [
    "a=int(input(\"enter the number\"))\n",
    "h=int(input(\"enter second number\"))           \n",
    "area=b*h*0.5\n",
    "print(area)\n"
   ]
  },
  {
   "cell_type": "code",
   "execution_count": 14,
   "metadata": {},
   "outputs": [
    {
     "name": "stdout",
     "output_type": "stream",
     "text": [
      "enter the no26\n",
      "not eligible\n"
     ]
    }
   ],
   "source": [
    "a=int(input(\"enter the no\"))\n",
    "if a>=21 and a<=25:\n",
    "    print(\"eligible for indian army\")\n",
    "else:\n",
    "    print(\"not eligible\")\n"
   ]
  },
  {
   "cell_type": "code",
   "execution_count": 16,
   "metadata": {},
   "outputs": [
    {
     "name": "stdout",
     "output_type": "stream",
     "text": [
      "eligible 21\n",
      "eligible 22\n",
      "eligible 23\n",
      "eligible 24\n",
      "eligible 25\n"
     ]
    }
   ],
   "source": [
    "for i in range(21,26):\n",
    "    print(\"eligible\",i)"
   ]
  }
 ],
 "metadata": {
  "kernelspec": {
   "display_name": "Python 3",
   "language": "python",
   "name": "python3"
  },
  "language_info": {
   "codemirror_mode": {
    "name": "ipython",
    "version": 3
   },
   "file_extension": ".py",
   "mimetype": "text/x-python",
   "name": "python",
   "nbconvert_exporter": "python",
   "pygments_lexer": "ipython3",
   "version": "3.7.3"
  }
 },
 "nbformat": 4,
 "nbformat_minor": 2
}
