{
 "cells": [
  {
   "cell_type": "code",
   "execution_count": 6,
   "metadata": {},
   "outputs": [
    {
     "name": "stdout",
     "output_type": "stream",
     "text": [
      "a    1\n",
      "b    2\n",
      "c    3\n",
      "d    4\n",
      "e    5\n",
      "f    6\n",
      "g    7\n",
      "h    8\n",
      "i    9\n",
      "dtype: int64\n"
     ]
    }
   ],
   "source": [
    "import pandas as pd\n",
    "data=[1,2,3,4,5,6,7,8,9]\n",
    "index=['a','b','c','d','e','f','g','h','i']\n",
    "s=pd.Series(data,index)\n",
    "print(s)\n"
   ]
  },
  {
   "cell_type": "code",
   "execution_count": 9,
   "metadata": {},
   "outputs": [
    {
     "name": "stdout",
     "output_type": "stream",
     "text": [
      "a    1\n",
      "b    2\n",
      "c    3\n",
      "d    4\n",
      "e    5\n",
      "dtype: int64\n"
     ]
    }
   ],
   "source": [
    "# Program to Create Dictionary series \n",
    "dictionary ={'a':1, 'b':2, 'c':3, 'd':4, 'e':5}  \n",
    "# Creating series of Dictionary type \n",
    "sd = pd.Series(dictionary) \n",
    "print(sd)"
   ]
  },
  {
   "cell_type": "code",
   "execution_count": 10,
   "metadata": {},
   "outputs": [
    {
     "name": "stdout",
     "output_type": "stream",
     "text": [
      "0    [2, 3, 4]\n",
      "1    [5, 6, 7]\n",
      "dtype: object\n"
     ]
    }
   ],
   "source": [
    "# Program to Create ndarray series \n",
    "Data =[[2, 3, 4], [5, 6, 7]]  # Defining 2darray \n",
    "  \n",
    "# Creating series of 2darray \n",
    "snd = pd.Series(Data) \n",
    "print(snd)"
   ]
  },
  {
   "cell_type": "code",
   "execution_count": 12,
   "metadata": {},
   "outputs": [
    {
     "name": "stdout",
     "output_type": "stream",
     "text": [
      "0    g\n",
      "1    e\n",
      "2    e\n",
      "3    k\n",
      "4    s\n",
      "dtype: object\n"
     ]
    }
   ],
   "source": [
    "#Creating a series from array\n",
    "\n",
    "# import pandas as pd\n",
    "import pandas as pd\n",
    " \n",
    "# import numpy as np\n",
    "import numpy as np\n",
    " \n",
    "# simple array\n",
    "data = np.array(['g','e','e','k','s'])\n",
    " \n",
    "ser = pd.Series(data)\n",
    "print(ser)"
   ]
  },
  {
   "cell_type": "code",
   "execution_count": 13,
   "metadata": {},
   "outputs": [
    {
     "name": "stdout",
     "output_type": "stream",
     "text": [
      "0    g\n",
      "1    e\n",
      "2    e\n",
      "3    k\n",
      "4    s\n",
      "dtype: object\n"
     ]
    }
   ],
   "source": [
    "#Creating a series from Lists:\n",
    "import pandas as pd\n",
    " \n",
    "# a simple list\n",
    "list = ['g', 'e', 'e', 'k', 's']\n",
    "  \n",
    "# create series form a list\n",
    "ser = pd.Series(list)\n",
    "print(ser)"
   ]
  },
  {
   "cell_type": "code",
   "execution_count": 18,
   "metadata": {},
   "outputs": [
    {
     "name": "stdout",
     "output_type": "stream",
     "text": [
      "3     k\n",
      "4     s\n",
      "5     f\n",
      "6     o\n",
      "7     r\n",
      "8     g\n",
      "9     e\n",
      "10    e\n",
      "11    k\n",
      "12    s\n",
      "dtype: object\n"
     ]
    }
   ],
   "source": [
    "#Accessing Element from Series with Position\n",
    "# import pandas and numpy \n",
    "import pandas as pd\n",
    "import numpy as np\n",
    " \n",
    "# creating simple array\n",
    "data = np.array(['g','e','e','k','s','f', 'o','r','g','e','e','k','s'])\n",
    "ser = pd.Series(data)\n",
    "  \n",
    "  \n",
    "#retrieve the first element\n",
    "#print(ser[:5])\n",
    "print(ser[-10:]) "
   ]
  },
  {
   "cell_type": "code",
   "execution_count": 17,
   "metadata": {},
   "outputs": [
    {
     "name": "stdout",
     "output_type": "stream",
     "text": [
      "o\n"
     ]
    }
   ],
   "source": [
    "\n",
    "#Accessing Element Using Label (index) :\n",
    "# import pandas and numpy \n",
    "import pandas as pd\n",
    "import numpy as np\n",
    " \n",
    "# creating simple array\n",
    "data = np.array(['g','e','e','k','s','f', 'o','r','g','e','e','k','s'])\n",
    "ser = pd.Series(data,index=[10,11,12,13,14,15,16,17,18,19,20,21,22])\n",
    "  \n",
    "  \n",
    "# accessing a element using index element\n",
    "print(ser[16])"
   ]
  },
  {
   "cell_type": "code",
   "execution_count": null,
   "metadata": {},
   "outputs": [],
   "source": []
  }
 ],
 "metadata": {
  "kernelspec": {
   "display_name": "Python 3",
   "language": "python",
   "name": "python3"
  },
  "language_info": {
   "codemirror_mode": {
    "name": "ipython",
    "version": 3
   },
   "file_extension": ".py",
   "mimetype": "text/x-python",
   "name": "python",
   "nbconvert_exporter": "python",
   "pygments_lexer": "ipython3",
   "version": "3.7.3"
  }
 },
 "nbformat": 4,
 "nbformat_minor": 2
}
